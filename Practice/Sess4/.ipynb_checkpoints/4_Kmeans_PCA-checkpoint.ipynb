{
 "cells": [
  {
   "cell_type": "markdown",
   "metadata": {
    "id": "Hgbz3Hkcifh1"
   },
   "source": [
    "#PRACTICAL SESSION 4"
   ]
  },
  {
   "cell_type": "markdown",
   "metadata": {
    "id": "1BTm4h96iqkP"
   },
   "source": [
    "**PART I: K-means++**"
   ]
  },
  {
   "cell_type": "markdown",
   "metadata": {
    "id": "5egnV2LaIAa1"
   },
   "source": [
    "STEP 1: Importing the libraries"
   ]
  },
  {
   "cell_type": "code",
   "execution_count": null,
   "metadata": {
    "id": "ClaOf22IVIKP"
   },
   "outputs": [],
   "source": [
    "# Important libraries\n",
    "import numpy as np\n",
    "import matplotlib.pyplot as plt\n",
    "import math\n",
    "from data_analysis import*"
   ]
  },
  {
   "cell_type": "markdown",
   "metadata": {
    "id": "80QDaWjzIEko"
   },
   "source": [
    "STEP 2: Defining a class to create usable data"
   ]
  },
  {
   "cell_type": "code",
   "execution_count": null,
   "metadata": {
    "id": "dGZHC4LCNPoJ"
   },
   "outputs": [],
   "source": [
    "data = Data('P4_kmeans_iris.csv')\n",
    "data.SplitData(0.2)\n",
    "data.plotCorrelationMatrix()\n",
    "Xtr = data.Xtrain[:,[0,2]]\n",
    "Ytr = data.Ytrain\n",
    "Xte = data.Xtest[:,[0,2]]\n",
    "Yte = data.Ytest"
   ]
  },
  {
   "cell_type": "markdown",
   "metadata": {
    "id": "gvOQbWW9IQLZ"
   },
   "source": [
    "STEP 3: Define the Kmeans algorithm"
   ]
  },
  {
   "cell_type": "code",
   "execution_count": null,
   "metadata": {
    "id": "2lJer9wWOQlp"
   },
   "outputs": [],
   "source": [
    "# Define a function that given a matrix of points X, and its assignments Z computes the centroids of the clusters\n",
    "def centroids(X,Z,k):\n",
    "  \n",
    "  return mu\n",
    "  \n",
    "# Define a function that given a matrix of data X and a vector of centroids mu, assigns each point of X to one cluster\n",
    "def cluster_assig(X,mu,k):\n",
    "  \n",
    "  return Z\n",
    "\n",
    "# Define a function that given the number of clusters wanted and the matrix of points X, uses the kmeans++ \n",
    "# initialization technique to compute the initial centroids\n",
    "def plusplusInitialization(X,k):\n",
    "  \n",
    "  return mu\n",
    "\n",
    "# Using the previous functions, create one that iterates and updates the centroids\n",
    "def kmeans(X,k):\n",
    "  \n",
    "  return mu_new,err"
   ]
  },
  {
   "cell_type": "code",
   "execution_count": null,
   "metadata": {
    "id": "Q2tL09Kfcnxx"
   },
   "outputs": [],
   "source": [
    "k = 3\n",
    "mu,err = kmeans(Xtr,k)\n",
    "plt.scatter(np.arange(1,len(err)+1),err)\n",
    "plt.show()"
   ]
  },
  {
   "cell_type": "code",
   "execution_count": null,
   "metadata": {
    "id": "txYj89SLMomf"
   },
   "outputs": [],
   "source": [
    "# Use this line to swap rows on mu until matching the true labels\n",
    "mu[[0,1,2],:] = mu[[0,2,1],:]"
   ]
  },
  {
   "cell_type": "code",
   "execution_count": null,
   "metadata": {
    "id": "rPJqbL46MkZ0"
   },
   "outputs": [],
   "source": [
    "Z   = cluster_assig(Xtr,mu,k)\n",
    "Zte = cluster_assig(Xte,mu,k)\n",
    "color = Z@np.arange(1, Z.shape[1]+1, 1, dtype=int).T\n",
    "colorte = Zte@np.arange(1, Z.shape[1]+1, 1, dtype=int).T\n",
    "plt.figure(figsize=(12,4))\n",
    "\n",
    "plt.subplot(1,3,1)\n",
    "plt.title('K-means++, train')\n",
    "plt.scatter(Xtr[:,0],Xtr[:,1],c=color,cmap=cm.brg)\n",
    "plt.scatter(mu[:,0],mu[:,1],color=\"black\",marker=\"X\")\n",
    "\n",
    "plt.subplot(1,3,2)\n",
    "plt.title('K-means++, test')\n",
    "plt.scatter(Xte[:,0],Xte[:,1],c=colorte,cmap=cm.brg)\n",
    "plt.scatter(mu[:,0],mu[:,1],color=\"black\",marker=\"X\")\n",
    "\n",
    "plt.subplot(1,3,3)\n",
    "plt.title('Real labels')\n",
    "data.plotData(0,2)\n",
    "TA = testAccuracy(Z,Ytr)\n",
    "TAe = testAccuracy(Zte,Yte)\n",
    "\n",
    "print('Train accuracy = ',TA)\n",
    "print('\\nTest accuracy = ',TAe)\n",
    "plt.show()"
   ]
  },
  {
   "cell_type": "markdown",
   "metadata": {
    "id": "PzhlLL6Fiv0L"
   },
   "source": [
    "**PART II: PCA**"
   ]
  },
  {
   "cell_type": "markdown",
   "metadata": {
    "id": "Xlndu8gZT_R5"
   },
   "source": [
    "STEP 4: Use svd to make a scree plot and a cumulative energy plot\n"
   ]
  },
  {
   "cell_type": "code",
   "execution_count": null,
   "metadata": {
    "id": "FIKzfiYxi1Dw"
   },
   "outputs": [],
   "source": [
    "# Using the same data, use np.linalg.svd() to do obtain u,s,v and plot the results\n",
    "X = data.X\n",
    "u,s,v = np.linalg.svd(X, full_matrices=False)\n"
   ]
  },
  {
   "cell_type": "code",
   "execution_count": null,
   "metadata": {
    "id": "d8MHzECsiwij"
   },
   "outputs": [],
   "source": [
    "# Develop a script to plot the data in the reducted dimension and plot \n",
    "# the reconstruction after cuting the information\n",
    "S = np.diag(s)\n"
   ]
  },
  {
   "cell_type": "markdown",
   "metadata": {
    "id": "qIwVtoNFWdee"
   },
   "source": [
    "STEP 5: PCA for dimensionality reduction in images"
   ]
  },
  {
   "cell_type": "code",
   "execution_count": null,
   "metadata": {
    "id": "UHN1Gn284GD4"
   },
   "outputs": [],
   "source": [
    "from matplotlib import image\n",
    "\n",
    "def rgb2gray(rgb):\n",
    "    return np.dot(rgb[...,:3], [0.2989, 0.5870, 0.1140])\n",
    "\n",
    "img = image.imread('giraffe.jpg')\n",
    "g = rgb2gray(img)    \n",
    "G = np.array(g)\n",
    "u,s,v = np.linalg.svd(G, full_matrices=False)\n",
    "rc = s/np.sum(s)\n",
    "plt.plot(np.arange(1,len(rc)+1),np.cumsum(rc))\n",
    "plt.xlabel(\"Number of principal components\")\n",
    "plt.ylabel(\"Cumulative energy\")\n",
    "plt.ylim((0,1))\n",
    "plt.show()"
   ]
  },
  {
   "cell_type": "code",
   "execution_count": null,
   "metadata": {
    "id": "4fKm0eqc9WYz"
   },
   "outputs": [],
   "source": [
    "# Plot the image with different values of truncation and see the results\n",
    "S = np.diag(s)\n"
   ]
  }
 ],
 "metadata": {
  "colab": {
   "collapsed_sections": [],
   "name": "4-Kmeans_PCA.ipynb",
   "provenance": []
  },
  "kernelspec": {
   "display_name": "Python 3 (ipykernel)",
   "language": "python",
   "name": "python3"
  },
  "language_info": {
   "codemirror_mode": {
    "name": "ipython",
    "version": 3
   },
   "file_extension": ".py",
   "mimetype": "text/x-python",
   "name": "python",
   "nbconvert_exporter": "python",
   "pygments_lexer": "ipython3",
   "version": "3.9.12"
  }
 },
 "nbformat": 4,
 "nbformat_minor": 1
}
