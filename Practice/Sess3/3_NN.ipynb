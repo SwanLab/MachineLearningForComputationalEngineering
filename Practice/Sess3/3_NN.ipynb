{
 "cells": [
  {
   "cell_type": "markdown",
   "metadata": {
    "id": "kT-wgxdanpUy"
   },
   "source": [
    "#PRACTICAL SESSION 3"
   ]
  },
  {
   "cell_type": "markdown",
   "metadata": {
    "id": "qsCgzC_lnoYI"
   },
   "source": [
    "STEP 1: Importing the libraries"
   ]
  },
  {
   "cell_type": "code",
   "execution_count": null,
   "metadata": {
    "id": "ClaOf22IVIKP"
   },
   "outputs": [],
   "source": [
    "# Important lybraries\n",
    "import numpy as np\n",
    "from matplotlib import pyplot as plt\n",
    "import math\n",
    "from data_analysis import*"
   ]
  },
  {
   "cell_type": "markdown",
   "metadata": {
    "id": "VPq5ceKhnwwi"
   },
   "source": [
    "STEP 2: Defining a class to create usable data"
   ]
  },
  {
   "cell_type": "code",
   "execution_count": null,
   "metadata": {
    "colab": {
     "base_uri": "https://localhost:8080/",
     "height": 483
    },
    "id": "YDRrvTMiVqlV",
    "outputId": "15616601-a42a-42c8-d577-cb8a1081875c"
   },
   "outputs": [],
   "source": [
    "data = Data('P3_nn_microchip.csv')\n",
    "data.splitData(0.2)\n",
    "data.plotCorrelationMatrix()"
   ]
  },
  {
   "cell_type": "markdown",
   "metadata": {
    "id": "V8K5A-MHn4nh"
   },
   "source": [
    "STEP 3: Computing the derivatives"
   ]
  },
  {
   "cell_type": "code",
   "execution_count": null,
   "metadata": {
    "id": "2Khi8-YhVzqt"
   },
   "outputs": [],
   "source": [
    "# Same as logistic regression we have some important functions for the model\n",
    "# We will need now the derivatives for crossentropy and the regularization as well\n",
    "def hypothesisFunction(X,theta):\n",
    "  \n",
    "  return h\n",
    "\n",
    "def actFCN(z):\n",
    "  \n",
    "  return g,g_der\n",
    "\n",
    "def crossentroy(P,T):\n",
    "  \n",
    "  return L,L_der\n",
    "\n",
    "def regularization(l,theta):\n",
    "  \n",
    "  return r,r_der"
   ]
  },
  {
   "cell_type": "markdown",
   "metadata": {
    "id": "z8p7gzRfn8lg"
   },
   "source": [
    "STEP 4: Forward and backward propagation"
   ]
  },
  {
   "cell_type": "code",
   "execution_count": null,
   "metadata": {
    "id": "hmy4u6HlNziB"
   },
   "outputs": [],
   "source": [
    "# Define a function that performs the forward propagation and returns the cost and the stored values of the activation functions\n",
    "def forwardprop(theta,topology,X,Y,l):\n",
    "    \n",
    "  return J,a"
   ]
  },
  {
   "cell_type": "code",
   "execution_count": null,
   "metadata": {
    "id": "fb6XWIJPoCUJ"
   },
   "outputs": [],
   "source": [
    "# Define a function that performs the backward propagation and returns the gradient of the model\n",
    "def backprop(theta,topology,a,Y,l):\n",
    "\n",
    "  return grad"
   ]
  },
  {
   "cell_type": "code",
   "execution_count": null,
   "metadata": {
    "id": "zX_VoxOCoEkg"
   },
   "outputs": [],
   "source": [
    "# Define a function predict really similar to forwardprop but which just returns the activation in the last layer (output)\n",
    "def predict(theta,topology,X,l):\n",
    "\n",
    "  return a[-1]"
   ]
  },
  {
   "cell_type": "code",
   "execution_count": null,
   "metadata": {
    "id": "pOY1R2wbdgVT"
   },
   "outputs": [],
   "source": [
    "d = 2\n",
    "l = 0.0\n",
    "idx = [0,1]\n",
    "hiddenlayers = [4,8]\n",
    "lr = 0.5\n",
    "theta0,Xtr,Ytr,topology = buildmodel(data.Xtrain,data.Ytrain,d,idx,hiddenlayers)\n",
    "_,Xte,Yte,_ = buildmodel(data.Xtest,data.Ytest,d,idx,hiddenlayers)\n",
    "\n",
    "F = lambda theta,X,Y: forwardprop(theta,topology,X,Y,l)\n",
    "f = lambda theta,a,Y: backprop(theta,topology,a,Y,l)\n",
    "gd = SGD(lr=lr,epochs=20000,batch=Xtr.shape[0],plot=True)\n",
    "thetaOPT = gd.train(F,f,Xtr,Ytr,theta0)\n",
    "PlotBoundary(data,thetaOPT,d,idx,topology,l)\n",
    "\n",
    "tr = testAccuracy(Xtr,Ytr,thetaOPT,topology,l)\n",
    "te = testAccuracy(Xte,Yte,thetaOPT,topology,l)\n",
    "print('\\nTrain accuracy: ',tr,'\\nTest accuracy: ',te)\n",
    "plt.show()"
   ]
  },
  {
   "cell_type": "markdown",
   "metadata": {
    "id": "LaRj4ERDoI3X"
   },
   "source": [
    "STEP 5: Multiclassification"
   ]
  },
  {
   "cell_type": "code",
   "execution_count": null,
   "metadata": {
    "colab": {
     "base_uri": "https://localhost:8080/",
     "height": 483
    },
    "id": "cePnBPKOhL8Q",
    "outputId": "663fa1ce-dc46-4859-9864-4978df87d981"
   },
   "outputs": [],
   "source": [
    "iris = Data('P3_nn_iris.csv')\n",
    "iris.scale()\n",
    "iris.splitData(0.2)\n",
    "iris.plotCorrelationMatrix()"
   ]
  },
  {
   "cell_type": "code",
   "execution_count": null,
   "metadata": {
    "id": "2XRlE3C9W8n4"
   },
   "outputs": [],
   "source": [
    "d = 1\n",
    "l = 0.0\n",
    "idx = [2,3]\n",
    "hiddenlayers = [4,8]\n",
    "lr = 0.1\n",
    "theta0,Xtr,Ytr,topology = buildmodel(iris.Xtrain,iris.Ytrain,d,idx,hiddenlayers)\n",
    "_,Xte,Yte,_ = buildmodel(iris.Xtest,iris.Ytest,d,idx,hiddenlayers)\n",
    "\n",
    "F = lambda theta,X,Y: forwardprop(theta,topology,X,Y,l)\n",
    "f = lambda theta,a,Y: backprop(theta,topology,a,Y,l)\n",
    "gd = SGD(lr=lr,epochs=10000,batch=Xtr.shape[0],plot=True)\n",
    "thetaOPT = gd.train(F,f,Xtr,Ytr,theta0)\n",
    "PlotBoundary(iris,thetaOPT,d,idx,topology,l)\n",
    "\n",
    "tr = testAccuracy(Xtr,Ytr,thetaOPT,topology,l)\n",
    "te = testAccuracy(Xte,Yte,thetaOPT,topology,l)\n",
    "print('\\nTrain accuracy: ',tr,'\\nTest accuracy: ',te)\n",
    "plt.show()"
   ]
  },
  {
   "cell_type": "markdown",
   "metadata": {
    "id": "v2XBT0GGnh4Y"
   },
   "source": [
    "STEP 6: Batch Size"
   ]
  },
  {
   "cell_type": "code",
   "execution_count": null,
   "metadata": {
    "id": "v8Q4OR-Fnhd6"
   },
   "outputs": [],
   "source": [
    "d = 1\n",
    "l = 0.0\n",
    "idx = [2,3]\n",
    "hiddenlayers = [4,8]\n",
    "m = Xtr.shape[0]\n",
    "lr = 0.1\n",
    "theta0,Xtr,Ytr,topology = buildmodel(iris.Xtrain,iris.Ytrain,d,idx,hiddenlayers)\n",
    "_,Xte,Yte,_ = buildmodel(iris.Xtest,iris.Ytest,d,idx,hiddenlayers)\n",
    "\n",
    "F = lambda theta,X,Y: forwardprop(theta,topology,X,Y,l)\n",
    "f = lambda theta,a,Y: backprop(theta,topology,a,Y,l)\n",
    "gd = SGD(lr=lr,epochs=10000,batch=m//1,plot=True)\n",
    "thetaOPT = gd.train(F,f,Xtr,Ytr,theta0)\n",
    "PlotBoundary(iris,thetaOPT,d,idx,topology,l)\n",
    "\n",
    "tr = testAccuracy(Xtr,Ytr,thetaOPT,topology,l)\n",
    "te = testAccuracy(Xte,Yte,thetaOPT,topology,l)\n",
    "print('\\nTrain accuracy: ',tr,'\\nTest accuracy: ',te)\n",
    "plt.show()"
   ]
  }
 ],
 "metadata": {
  "colab": {
   "collapsed_sections": [],
   "name": "3-NN.ipynb",
   "provenance": []
  },
  "kernelspec": {
   "display_name": "Python 3 (ipykernel)",
   "language": "python",
   "name": "python3"
  },
  "language_info": {
   "codemirror_mode": {
    "name": "ipython",
    "version": 3
   },
   "file_extension": ".py",
   "mimetype": "text/x-python",
   "name": "python",
   "nbconvert_exporter": "python",
   "pygments_lexer": "ipython3",
   "version": "3.9.12"
  }
 },
 "nbformat": 4,
 "nbformat_minor": 1
}
